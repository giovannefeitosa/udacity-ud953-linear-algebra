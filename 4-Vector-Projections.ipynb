{
 "cells": [
  {
   "cell_type": "markdown",
   "metadata": {},
   "source": [
    "# Vector Projections\n",
    "\n",
    "The projection of a vector onto another vector means to find the component of the vector (orthogonal line) and the parallel (projection) to the other vector.\n",
    "\n",
    "If you sum parallel with orthogonal you get the original vector.\n",
    "\n",
    "![](images/projecting-vector.png)"
   ]
  },
  {
   "cell_type": "markdown",
   "metadata": {},
   "source": [
    "In the above figure, the vector $\\vec{v}$ is projected onto the vector $\\vec{b}$.\n",
    "\n",
    "The projection of $\\vec{v}$ onto $\\vec{b}$ is described as \n",
    "\n",
    "$proj_{\\vec{b}}(\\vec{v}$).\n",
    "\n",
    "The orthogonal vector is described as the vector V with a inverted T \n",
    "\n",
    "$\\vec{v}^{\\bot}$.\n",
    "\n",
    "> If we sum this projection and the orthogonal vector, we get the original vector."
   ]
  },
  {
   "cell_type": "markdown",
   "metadata": {},
   "source": [
    "To calculate the projection, we need to find the cosine of the angle between the two vectors.\n",
    "\n",
    "To do this we use the $\\cos(\\theta) = \\frac{||\\vec{v}^{ll}||}{||\\vec{v}||}$ formula. Where $||\\vec{v}^{ll}||$ is the magnitude of the projection of $\\vec{v}$ onto $\\vec{b}$.\n",
    "\n",
    "After some rearranging, we get the following formula for the projection of $\\vec{v}$ onto $\\vec{b}$.\n",
    "\n",
    "||$\\vec{v}^{ll}|| = ||\\vec{v}||\\cos(\\theta)$\n",
    "\n",
    "We can also get the dot product formula:\n",
    "\n",
    "$\\cos(\\theta) = \\frac{\\vec{v}\\cdot\\vec{b}}{||\\vec{v}||\\cdot||\\vec{b}||}$\n",
    "\n",
    "And substitute it into the projection formula:\n",
    "\n",
    "||$\\vec{v}^{ll}|| = ||\\vec{v}||\\frac{\\vec{v}\\cdot\\vec{b}}{||\\vec{v}||\\cdot||\\vec{b}||}$\n",
    "\n",
    "So we can calcel the ||$\\vec{v}||$ term:\n",
    "\n",
    "||$\\vec{v}^{ll}|| = \\frac{\\vec{v}\\cdot\\vec{b}}{||\\vec{b}||}$\n",
    "\n",
    "Note that $\\frac{\\vec{b}}{||\\vec{b}||}$ is the unit vector (normalization) of $\\vec{b}$.\n",
    "\n",
    "So we can rewrite the projection formula as:\n",
    "\n",
    "$||\\vec{v}^{ll}|| = \\vec{v}\\cdot\\vec{u}_{\\vec{b}}$\n",
    "\n",
    "Where $\\vec{u}_{\\vec{b}}$ is the unit vector of $\\vec{b}$.\n",
    "\n",
    "> We conclude that the projection of $\\vec{v}$ onto $\\vec{b}$ is the dot product of the magnitude of $\\vec{v}$ and the unit vector of $\\vec{b}$.\n",
    "\n",
    "Now we can calculate the V parallel in the following way:\n",
    "\n",
    "$\\vec{v}^{ll} = (\\vec{v}\\cdot\\vec{u}_{\\vec{b}})\\vec{u}_{\\vec{b}}$\n",
    "\n",
    "> v parallel equals to the dot product of v and the unit vector of b times the unit vector of b."
   ]
  },
  {
   "cell_type": "markdown",
   "metadata": {},
   "source": [
    "## Exercise\n",
    "\n",
    "![](images/exercise-vector-projections.png)"
   ]
  },
  {
   "cell_type": "code",
   "execution_count": 1,
   "metadata": {
    "vscode": {
     "languageId": "python"
    }
   },
   "outputs": [
    {
     "name": "stdout",
     "output_type": "stream",
     "text": [
      "proj1 Vector(1.082606962484467, 2.671742758325303)\n",
      "orthogonal1 Vector(1.9563930375155332, -0.792742758325303)\n",
      "\n",
      "proj2 Vector(-1.5299189568042382, -6.640061254287722, -6.725253957218817)\n",
      "orthogonal2 Vector(-8.350081043195763, 3.376061254287722, -1.4337460427811841)\n",
      "\n",
      "proj3 Vector(1.96851616721409, -2.8107607484393564, 0.8480849633578504, 2.679813233256158)\n",
      "orthogonal3 Vector(1.0404838327859098, -3.3612392515606433, 2.8439150366421497, -5.189813233256158)\n"
     ]
    }
   ],
   "source": [
    "from resources.vector import Vector\n",
    "\n",
    "v1, b1 = Vector([3.039, 1.879]), Vector([0.825, 2.036])\n",
    "v2, b2 = Vector([-9.88, -3.264, -8.159]), Vector([-2.155, -9.353, -9.473])\n",
    "v3, b3 = Vector([3.009, -6.172, 3.692, -2.51]), Vector([6.404, -9.144, 2.759, 8.718])\n",
    "\n",
    "proj1 = v1.get_projection(b1)\n",
    "proj2 = v2.get_projection(b2)\n",
    "proj3 = v3.get_projection(b3)\n",
    "\n",
    "orthogonal1 = v1 - proj1\n",
    "orthogonal2 = v2 - proj2\n",
    "orthogonal3 = v3 - proj3\n",
    "\n",
    "print(f\"proj1 {proj1}\")\n",
    "print(f\"orthogonal1 {orthogonal1}\")\n",
    "print(\"\")\n",
    "print(f\"proj2 {proj2}\")\n",
    "print(f\"orthogonal2 {orthogonal2}\")\n",
    "print(\"\")\n",
    "print(f\"proj3 {proj3}\")\n",
    "print(f\"orthogonal3 {orthogonal3}\")"
   ]
  }
 ],
 "metadata": {
  "kernelspec": {
   "display_name": "Python 3 (ipykernel)",
   "language": "python",
   "name": "python3"
  },
  "orig_nbformat": 4
 },
 "nbformat": 4,
 "nbformat_minor": 2
}
