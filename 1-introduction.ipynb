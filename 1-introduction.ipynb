{
 "cells": [
  {
   "cell_type": "markdown",
   "metadata": {},
   "source": [
    "# Introduction\n",
    "\n",
    "A point is a 2d vector that represents a coordinate point in 2d space.\n",
    "\n",
    "A vector represents a distance between two points."
   ]
  },
  {
   "cell_type": "code",
   "execution_count": 6,
   "metadata": {
    "vscode": {
     "languageId": "python"
    }
   },
   "outputs": [
    {
     "name": "stdout",
     "output_type": "stream",
     "text": [
      "Vector: (1, 2, 3)\n"
     ]
    }
   ],
   "source": [
    "from resources.vector import Vector\n",
    "\n",
    "my_vector = Vector([1, 2, 3])\n",
    "\n",
    "print(my_vector)"
   ]
  },
  {
   "cell_type": "markdown",
   "metadata": {},
   "source": [
    "## Exercise 1\n",
    "\n",
    "1. `[8.218, -9.341] + [-1.129, 2.111]` = ?\n",
    "2. `[7.119, 8.215] - [-8.223, 0.878]` = ?\n",
    "3. `7.41 * [1.671, -1.012, -0.318]` = ?"
   ]
  },
  {
   "cell_type": "code",
   "execution_count": 1,
   "metadata": {
    "vscode": {
     "languageId": "python"
    }
   },
   "outputs": [
    {
     "name": "stdout",
     "output_type": "stream",
     "text": [
      "result 1: Vector: (7.089, -7.229999999999999)\n",
      "result 2: Vector: (15.342, 7.337)\n",
      "result 3: Vector: (12.38211, -7.49892, -2.35638)\n"
     ]
    }
   ],
   "source": [
    "from resources.vector import Vector\n",
    "\n",
    "ex1_a = Vector([8.218, -9.341])\n",
    "ex1_b = Vector([-1.129, 2.111])\n",
    "\n",
    "ex2_a = Vector([7.119, 8.215])\n",
    "ex2_b = Vector([-8.223, 0.878])\n",
    "\n",
    "ex3_a = 7.41\n",
    "ex3_b = Vector([1.671, -1.012, -0.318])\n",
    "\n",
    "print(\"result 1: {}\".format(ex1_a + ex1_b))\n",
    "print(\"result 2: {}\".format(ex2_a - ex2_b))\n",
    "print(\"result 3: {}\".format(ex3_b.scalar_mul(ex3_a)))\n"
   ]
  },
  {
   "cell_type": "markdown",
   "metadata": {},
   "source": [
    "# Magnitude and Direction\n",
    "\n",
    "The magnitude is the length of a vector. It refers to how much movement it quantifies.\n",
    "\n",
    "And the direction of a vector refers to where the direction's movement is pointing.\n",
    "\n",
    "## Magnitude\n",
    "\n",
    "Given a vector PQ.\n",
    "\n",
    "It's calculated by: \n",
    "\n",
    "\\begin{equation*}\n",
    "||\\overrightarrow{v}|| = distance-between-P-and-Q\n",
    "\\end{equation*}\n",
    "\n",
    "The distance can be calculated with the Pitagoras theorem.\n",
    "\n",
    "![Pitagoras theorem](images/vector-magnitude.png)\n",
    "\n",
    "It's also possible to calculate the magnitude of a vector using the dot product.\n",
    "\n",
    "![Magnitude of multiple dimensions](images/vector-magnitude-multiple.png)\n",
    "\n",
    "## Direction\n",
    "\n",
    "Since the direction doesn't depend on the magnitude (we can have multiple vectors with the same direction but different sizes/magnitudes), we can assume the magnitude is 1.\n",
    "\n",
    "* A **unit vector** is a vector whose magnitude is 1.\n",
    "* A vector's direction can be represented by a unit vector.\n",
    "\n",
    "![Unit vector](images/vector-unit-vector.png)\n",
    "\n",
    "### Normalization\n",
    "\n",
    "> Normalization is the process of finding a unit vector in the same direction as a given vector.\n",
    "\n",
    "The first step is to find the magnitude of the vector.\n",
    "\n",
    "The second step is then to perform a scalar multiplication. We multiply the vector by 1/magnitude.\n",
    "\n",
    "So there its length becomes 1.\n",
    "\n",
    "Example:\n",
    "\n",
    "Normalize this vector:\n",
    "\n",
    "\\begin{equation*}\n",
    "\\mathbf{v} = \\begin{bmatrix} -1 \\\\ 1 \\\\ 1 \\end{bmatrix}\n",
    "\\end{equation*}\n",
    "\n",
    "First, let's find the vector magnitude.\n",
    "\n",
    "\\begin{equation*}\n",
    "||\\overrightarrow{v}|| = \\sqrt{(-1)^2 + (1)^2 + (1)^2} = \\sqrt{3}\n",
    "\\end{equation*}\n",
    "\n",
    "The vector magnitude is `sqrt(3)`.\n",
    "\n",
    "Then, we find the unit vector.\n",
    "\n",
    "\\begin{equation*}\n",
    "\\overrightarrow{u} = \\frac{1}{||\\overrightarrow{v}||} \\overrightarrow{v}\n",
    "\\end{equation*}\n",
    "\n",
    "\\begin{equation*}\n",
    "= \\frac{1}{\\sqrt{3}} \\begin{bmatrix} -1 \\\\ 1 \\\\ 1 \\end{bmatrix} \n",
    "\\end{equation*}\n",
    "\n",
    "The unit vector is:\n",
    "\n",
    "\\begin{equation*}\n",
    "= \\begin{bmatrix} \\frac{-1}{\\sqrt{3}} \\\\ \\frac{1}{\\sqrt{3}} \\\\ \\frac{1}{\\sqrt{3}} \\end{bmatrix}\n",
    "\\end{equation*}\n",
    "\n",
    "### The magnitude of a Unit Vector is always 1\n",
    "\n",
    "We can check that the unit vector is indeed a unit vector by calculating its magnitude.\n",
    "\n",
    "\\begin{equation*}\n",
    "||\\overrightarrow{u}|| = \\sqrt{(\\frac{-1}{\\sqrt{3}})^2 + (\\frac{1}{\\sqrt{3}})^2 + (\\frac{1}{\\sqrt{3}})^2}\n",
    "\\end{equation*}\n",
    "\n",
    "\\begin{equation*}\n",
    "= \\sqrt{\\frac{1}{3} + \\frac{1}{3} + \\frac{1}{3}}\n",
    "\\end{equation*}\n",
    "\n",
    "\\begin{equation*}\n",
    "1\n",
    "\\end{equation*}\n",
    "\n",
    "\n",
    "Since we have the magnitude 1, it is a unit vector.\n",
    "\n",
    "It's the unit vector pointing to the same direction as the original vector.\n",
    "\n",
    "So **u** is the normalization of **v**.\n",
    "\n",
    "\n"
   ]
  },
  {
   "cell_type": "markdown",
   "metadata": {},
   "source": [
    "## Exercise 2\n",
    "\n",
    "![exercise 2](images/exercise-magnitude-normalization.png)\n",
    "\n",
    "1. Calculate the magnitude of `[-0.221, 7.437]`\n",
    "2. Calculate the magnitude of `[8.813, -1.331, -6.247]`\n",
    "3. Calculate the normalization of `[5.581, -2.136]`\n",
    "4. Calculate the normalization of `[1.996, 3.108, -4.554]`"
   ]
  },
  {
   "cell_type": "code",
   "execution_count": 7,
   "metadata": {
    "vscode": {
     "languageId": "python"
    }
   },
   "outputs": [
    {
     "name": "stdout",
     "output_type": "stream",
     "text": [
      "Magnitude of vec_1 is 7.440\n",
      "Magnitude of vec_2 is 10.884\n",
      "\n",
      "Normalization of vec_3 is Vector: (0.9339352140866403, -0.35744232526233)\n",
      "Normalization of vec_4 is Vector: (0.3404012959433014, 0.5300437012984873, -0.7766470449528029)\n"
     ]
    }
   ],
   "source": [
    "from resources.vector import Vector\n",
    "\n",
    "vec_1 = Vector([-0.221, 7.437])\n",
    "vec_2 = Vector([8.813, -1.331, -6.247])\n",
    "vec_3 = Vector([5.581, -2.136])\n",
    "vec_4 = Vector([1.996, 3.108, -4.554])\n",
    "\n",
    "print(\"Magnitude of vec_1 is %.3f\" % vec_1.get_magnitude())\n",
    "print(\"Magnitude of vec_2 is %.3f\" % vec_2.get_magnitude())\n",
    "print(\"\")\n",
    "print(f\"Normalization of vec_3 is {vec_3.get_normalization()}\")\n",
    "print(f\"Normalization of vec_4 is {vec_4.get_normalization()}\")"
   ]
  }
 ],
 "metadata": {
  "kernelspec": {
   "display_name": "Python 3 (ipykernel)",
   "language": "python",
   "name": "python3"
  },
  "orig_nbformat": 4
 },
 "nbformat": 4,
 "nbformat_minor": 2
}
