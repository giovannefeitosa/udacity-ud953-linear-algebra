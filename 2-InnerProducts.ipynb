{
 "cells": [
  {
   "cell_type": "markdown",
   "metadata": {},
   "source": [
    "# Inner Products\n",
    "\n",
    "If you get two vectors and multiply them like this:\n",
    "\n",
    "\n",
    "\\begin{equation*}\n",
    "\\mathbf{v} = \\begin{bmatrix} -2 \\\\ 2 \\\\ 1 \\end{bmatrix} \\cdot \\begin{bmatrix} 1 \\\\ 2 \\\\ 3 \\end{bmatrix}\n",
    "\\end{equation*}\n",
    "\n",
    "\\begin{equation*}\n",
    "\\mathbf{v} = \\begin{bmatrix} -2 \\\\ 4 \\\\ 3 \\end{bmatrix}\n",
    "\\end{equation*}\n",
    "\n",
    "**This is not very useful in many applications.**\n",
    "\n",
    "To solve this issue, we use **the dot product**.\n",
    "\n",
    "The dot product aims to find the angle between two lines.\n",
    "\n",
    "## Find the angle between two vectors\n",
    "\n",
    "![](images/inner-products-angle.png)\n",
    "\n",
    "The formula is:\n",
    "\n",
    "\\begin{equation*}\n",
    "\\overrightarrow{v} \\cdot \\overrightarrow{w}\n",
    "\\end{equation*}\n",
    "\n",
    "\\begin{equation*}\n",
    "= ||\\overrightarrow{v}|| \\cdot ||\\overrightarrow{w}|| \\cdot \\cos \\theta\n",
    "\\end{equation*}\n",
    "\n",
    "> Read: The dot product between two vectors equals to the dot product of the two vectors' magnitudes times the cosine of the angle between the two vectors.\n",
    "\n",
    "Theta is the angle between the two vectors (lines).\n",
    "\n",
    "> Note that the inner product of two vectors is a number (scalar), not a vector.\n",
    "\n",
    "### Inverse cosine\n",
    "\n",
    "Using the inverse of the cosine function (also called `arccos` or arc-cosine) we can solve for this angle.\n",
    "\n",
    "There is two ways of doing this, they are described in the image above:\n",
    "\n",
    "\\begin{equation*}\n",
    "\\theta = \\arccos (\\frac{\\overrightarrow{v} \\cdot \\overrightarrow{w}}{||\\overrightarrow{v}|| \\cdot ||\\overrightarrow{w}||})\n",
    "\\end{equation*}\n",
    "\n",
    "or\n",
    "\n",
    "\\begin{equation*}\n",
    "\\theta = \\arccos (\\frac{1}{||\\overrightarrow{v}||} \\overrightarrow{v} \\cdot (\\frac{1}{||\\overrightarrow{w}||} \\overrightarrow{w})\n",
    "\\end{equation*}\n",
    "\n",
    "\n",
    "\n",
    "There is also a more readily computable formula:\n",
    "\n",
    "\\begin{equation*}\n",
    "\\overrightarrow{v} \\cdot \\overrightarrow{w} = v_1 w_1 + v_2 w_2 + \\cdots + v_n w_n\n",
    "\\end{equation*}\n",
    "\n",
    "For example:\n",
    "\n",
    "\\begin{equation*}\n",
    "dotProduct = \\begin{bmatrix} 1 \\\\ 2 \\\\ -1 \\end{bmatrix} \\cdot \\begin{bmatrix} 3 \\\\ 1 \\\\ 0 \\end{bmatrix}\n",
    "\\end{equation*}\n",
    "\n",
    "\\begin{equation*}\n",
    "dotProduct = 1 \\cdot 3 + 2 \\cdot 1 + (-1) \\cdot 0\n",
    "\\end{equation*}\n",
    "\n",
    "\\begin{equation*}\n",
    "dotProduct = 5\n",
    "\\end{equation*}\n",
    "\n",
    "Now that we have the dot product of two vectors we can find the angle between them.\n",
    "\n",
    "![](images/cos-find-the-angle.png)\n",
    "\n"
   ]
  },
  {
   "cell_type": "code",
   "execution_count": 3,
   "metadata": {
    "vscode": {
     "languageId": "python"
    }
   },
   "outputs": [
    {
     "name": "stdout",
     "output_type": "stream",
     "text": [
      "rad = 0.8691222030072928\n",
      "deg = 49.79703411343022\n"
     ]
    }
   ],
   "source": [
    "from resources.vector import Vector\n",
    "\n",
    "vec_1 = Vector([1, 2, -1])\n",
    "vec_2 = Vector([3, 1, 0])\n",
    "\n",
    "dot_product = vec_1.dot_product(vec_2)\n",
    "\n",
    "assert dot_product == 5\n",
    "assert Vector.dot_product(vec_1, vec_2) == 5\n",
    "\n",
    "\n",
    "rad = Vector.get_angle_rad(vec_1, vec_2)\n",
    "deg = Vector.get_angle_deg(vec_1, vec_2)\n",
    "\n",
    "print(f\"rad = {rad}\")\n",
    "print(f\"deg = {deg}\")"
   ]
  },
  {
   "cell_type": "code",
   "execution_count": 31,
   "metadata": {
    "vscode": {
     "languageId": "python"
    }
   },
   "outputs": [
    {
     "name": "stdout",
     "output_type": "stream",
     "text": [
      "dot_product = 0\n",
      "A zero vector has no normalization\n"
     ]
    }
   ],
   "source": [
    "from resources.vector import Vector\n",
    "import math\n",
    "\n",
    "# assert zero vector\n",
    "vec_0 = Vector([0,0])\n",
    "vec_1 = Vector([1,1])\n",
    "\n",
    "dot_product = vec_0.dot_product(vec_1)\n",
    "print(f\"dot_product = {dot_product}\")\n",
    "\n",
    "try:\n",
    "    vec_0.get_normalization()\n",
    "except ZeroDivisionError:\n",
    "    print(\"A zero vector has no normalization\")"
   ]
  },
  {
   "cell_type": "code",
   "execution_count": 37,
   "metadata": {
    "vscode": {
     "languageId": "python"
    }
   },
   "outputs": [
    {
     "name": "stdout",
     "output_type": "stream",
     "text": [
      "rad_2 = 3.141592653589793\n",
      "deg_2 = 180.0\n"
     ]
    }
   ],
   "source": [
    "vec_2 = Vector([0,-1])\n",
    "vec_3 = Vector([0,1])\n",
    "#print(f\"dot_product {vec_2.dot_product(vec_3)}, magnitude {vec_2.get_magnitude()}\")\n",
    "assert vec_2.dot_product(vec_2) == math.pow(vec_2.get_magnitude(), 2)\n",
    "rad_2 = vec_2.get_angle_rad(vec_3)\n",
    "deg_2 = vec_2.get_angle_deg(vec_3)\n",
    "\n",
    "print(f\"rad_2 = {rad_2}\")\n",
    "print(f\"deg_2 = {deg_2}\")"
   ]
  },
  {
   "cell_type": "code",
   "execution_count": 42,
   "metadata": {
    "vscode": {
     "languageId": "python"
    }
   },
   "outputs": [
    {
     "name": "stdout",
     "output_type": "stream",
     "text": [
      "dot_product   = 5\n",
      "dot_magnitude = 5.0\n"
     ]
    }
   ],
   "source": [
    "# if the product of magnitudes equals to the dot product\n",
    "# then \n",
    "vec_1 = Vector([0,-1])\n",
    "vec_2 = Vector([0,-5])\n",
    "dot_product = vec_1.dot_product(vec_2)\n",
    "dot_magnitude = vec_1.get_magnitude() * vec_2.get_magnitude()\n",
    "\n",
    "print(f\"dot_product   = {dot_product}\")\n",
    "print(f\"dot_magnitude = {dot_magnitude}\")\n",
    "assert dot_product == dot_magnitude, \"dot_product should equal to dot_magnitude\""
   ]
  },
  {
   "cell_type": "markdown",
   "metadata": {},
   "source": [
    "## Exercise about Product and Angle\n",
    "\n",
    "![](images/exercise-product-angle.png)"
   ]
  },
  {
   "cell_type": "code",
   "execution_count": 1,
   "metadata": {
    "vscode": {
     "languageId": "python"
    }
   },
   "outputs": [
    {
     "name": "stdout",
     "output_type": "stream",
     "text": [
      "Results:\n",
      "\n",
      "ex1: -41.382286\n",
      "ex2: 56.397178000000004\n",
      "ex3: 3.0720263098372476\n",
      "ex4: 60.27581120523091\n"
     ]
    }
   ],
   "source": [
    "from resources.vector import Vector\n",
    "\n",
    "ex1_vec1 = Vector([7.887, 4.138])\n",
    "ex1_vec2 = Vector([-8.802, 6.776])\n",
    "ex1_res = Vector.dot_product(ex1_vec1, ex1_vec2)\n",
    "\n",
    "ex2_vec1 = Vector([-5.955, -4.904, -1.874])\n",
    "ex2_vec2 = Vector([-4.496, -8.755, 7.103])\n",
    "ex2_res = Vector.dot_product(ex2_vec1, ex2_vec2)\n",
    "\n",
    "ex3_vec1 = Vector([3.183, -7.627])\n",
    "ex3_vec2 = Vector([-2.668, 5.319])\n",
    "ex3_res = Vector.get_angle_rad(ex3_vec1, ex3_vec2)\n",
    "\n",
    "ex4_vec1 = Vector([7.35, 0.221, 5.188])\n",
    "ex4_vec2 = Vector([2.751, 8.259, 3.985])\n",
    "ex4_res = Vector.get_angle_deg(ex4_vec1, ex4_vec2)\n",
    "\n",
    "print(\"Results:\\n\")\n",
    "print(f\"ex1: {ex1_res}\")\n",
    "print(f\"ex2: {ex2_res}\")\n",
    "print(f\"ex3: {ex3_res}\")\n",
    "print(f\"ex4: {ex4_res}\")\n"
   ]
  }
 ],
 "metadata": {
  "kernelspec": {
   "display_name": "Python 3 (ipykernel)",
   "language": "python",
   "name": "python3"
  },
  "orig_nbformat": 4
 },
 "nbformat": 4,
 "nbformat_minor": 2
}
