{
 "cells": [
  {
   "cell_type": "markdown",
   "metadata": {},
   "source": [
    "# Cross Products\n",
    "\n",
    "A cross product is the multiplication of two vectors with 3 dimensions. The result is a vector with 3 dimensions that is orthogonal to both original vectors.\n",
    "\n",
    "> The cross product only works for vectors with 3 dimensions.\n",
    "\n",
    "> It's possible to calculate the cross product of two vectors with 2 dimensions if we assume that z=0 for both vectors.\n",
    "\n",
    "> The cross product of two parallel vectors is a zero vector.\n",
    "\n",
    "> Also if either one of the vectors is a zero vector, the cross product will be a zero vector as well.\n",
    "\n",
    "## Anticommutative\n",
    "\n",
    "Assume we have two vectors $\\vec{a}$ and $\\vec{b}$.\n",
    "\n",
    "If we multiply them in the order $\\vec{a} \\times \\vec{b}$, we get a vector $\\vec{c}$.\n",
    "\n",
    "But if we multiply them in the inverse order, $\\vec{b} \\times \\vec{a}$, we get $-\\vec{c}$."
   ]
  },
  {
   "cell_type": "markdown",
   "metadata": {},
   "source": [
    "## Formula\n",
    "\n",
    "![](images/formula-cross-products.png)"
   ]
  },
  {
   "cell_type": "markdown",
   "metadata": {},
   "source": [
    "## Assertion\n",
    "\n",
    "Since the resulting vector is orthogonal to both original vectors, we can confirm this is true by calculating the dot product of the resulting vector and one of the original vectors.\n",
    "\n",
    "The result of this dot product should be 0.\n",
    "\n",
    "> Doubt: maybe the result of this dot product can also be 90 or 270?\n",
    "\n",
    "![](images/cross-products-assertion-orthogonal.png)"
   ]
  },
  {
   "cell_type": "markdown",
   "metadata": {},
   "source": [
    "## Area of Parallelogram\n",
    "\n",
    "We can find the area of a parallelogram by calculating the magnitude of the result of the cross product.\n",
    "\n",
    "![](images/cross-products-area-of-parallelogram.png)"
   ]
  },
  {
   "cell_type": "markdown",
   "metadata": {},
   "source": [
    "## Area of Triangle\n",
    "\n",
    "A parallelogram is like two triangles put together. So we can find the area of a triangle by dividing the area of the parallelogram by 2.\n",
    "\n",
    "So if we have a parallelogram with area = 16.093, then the area of the triangle is $\\frac{16.093}{2}$."
   ]
  },
  {
   "cell_type": "markdown",
   "metadata": {},
   "source": [
    "## Exercise\n",
    "\n",
    "Create 3 functions to calculate:\n",
    "\n",
    "* Cross product\n",
    "* Area of parallelogram\n",
    "* Area of triangle\n",
    "\n",
    "You can assume all vectors have 3 dimensions.\n",
    "\n",
    "Optional: Extend to vectors with 2 dimensions (treat as 3D vectors with z-coordinate = 0).\n",
    "\n",
    "![](images/exercise-cross-products.png)"
   ]
  },
  {
   "cell_type": "code",
   "execution_count": 2,
   "metadata": {},
   "outputs": [
    {
     "name": "stdout",
     "output_type": "stream",
     "text": [
      "Cross Product 1: Vector(-11.204570999999994, -97.609444, -105.68516199999999)\n",
      "Cross Product 2: Vector(96.58639899999999, -101.15105, -25.263776999999997)\n",
      "Cross Product 3: Vector(54.647600000000004, -30.829836999999998, 57.534829)\n",
      "\n",
      "Parallelogram Area 1: 144.30003269663322\n",
      "Parallelogram Area 2: 142.12222140184633\n",
      "Parallelogram Area 3: 85.12987479883788\n",
      "\n",
      "Triangle Area 1: 72.15001634831661\n",
      "Triangle Area 2: 71.06111070092317\n",
      "Triangle Area 3: 42.56493739941894\n",
      "\n",
      "Answer 1: Vector(-11.204570999999994, -97.609444, -105.68516199999999)\n",
      "Answer 2: 142.12222140184633\n",
      "Answer 3: 42.56493739941894\n"
     ]
    }
   ],
   "source": [
    "from resources.vector import Vector\n",
    "\n",
    "v1, w1 = Vector([8.462, 7.893, -8.187]), Vector([6.984, -5.975, 4.778])\n",
    "v2, w2 = Vector([-8.987, -9.838, 5.031]), Vector([-4.268, -1.861, -8.866])\n",
    "v3, w3 = Vector([1.5, 9.547, 3.691]), Vector([-6.007, 0.124, 5.772])\n",
    "\n",
    "cross1 = v1.cross_product(w1)\n",
    "cross2 = v2.cross_product(w2)\n",
    "cross3 = v3.cross_product(w3)\n",
    "\n",
    "parallelogram_area1 = cross1.get_magnitude()\n",
    "parallelogram_area2 = cross2.get_magnitude()\n",
    "parallelogram_area3 = cross3.get_magnitude()\n",
    "\n",
    "triangle_area1 = parallelogram_area1 / 2\n",
    "triangle_area2 = parallelogram_area2 / 2\n",
    "triangle_area3 = parallelogram_area3 / 2\n",
    "\n",
    "print('Cross Product 1: {}'.format(cross1))\n",
    "print('Cross Product 2: {}'.format(cross2))\n",
    "print('Cross Product 3: {}'.format(cross3))\n",
    "print('')\n",
    "\n",
    "print('Parallelogram Area 1: {}'.format(parallelogram_area1))\n",
    "print('Parallelogram Area 2: {}'.format(parallelogram_area2))\n",
    "print('Parallelogram Area 3: {}'.format(parallelogram_area3))\n",
    "print('')\n",
    "\n",
    "print('Triangle Area 1: {}'.format(triangle_area1))\n",
    "print('Triangle Area 2: {}'.format(triangle_area2))\n",
    "print('Triangle Area 3: {}'.format(triangle_area3))\n",
    "print('')\n",
    "\n",
    "print('Answer 1: {}'.format(cross1))\n",
    "print('Answer 2: {}'.format(parallelogram_area2))\n",
    "print('Answer 3: {}'.format(triangle_area3))\n"
   ]
  }
 ],
 "metadata": {
  "kernelspec": {
   "display_name": "Python 3 (ipykernel)",
   "language": "python",
   "name": "python3"
  },
  "language_info": {
   "codemirror_mode": {
    "name": "ipython",
    "version": 3
   },
   "file_extension": ".py",
   "mimetype": "text/x-python",
   "name": "python",
   "nbconvert_exporter": "python",
   "pygments_lexer": "ipython3",
   "version": "3.8.10"
  },
  "orig_nbformat": 4
 },
 "nbformat": 4,
 "nbformat_minor": 2
}
