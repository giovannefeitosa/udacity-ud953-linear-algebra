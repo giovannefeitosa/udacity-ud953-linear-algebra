{
 "cells": [
  {
   "cell_type": "markdown",
   "metadata": {},
   "source": [
    "# Parallel and Orthogonal Vectors\n",
    "\n",
    "Remember that vectors are just arrows in space.  We can think of them as arrows in 2D space, or 3D space, or even higher dimensions.  In this notebook, we'll be working in 2D space, so we'll be working with vectors that have two components.  For example, the vector $\\vec{v} = (2, 3)$ is an arrow that starts at the origin and ends at the point $(2, 3)$.\n",
    "\n",
    "Parallel vectors are pointing whether to the same direction or opposite directions.  For example, the vectors $\\vec{v} = (2, 3)$ and $\\vec{w} = (4, 6)$ are parallel.  The vectors $\\vec{v} = (2, 3)$ and $\\vec{w} = (-4, -6)$ are also parallel.\n",
    "\n",
    "## Parallel Vectors\n",
    "\n",
    "A parallel vector has angle of `0rad` / `0deg` or $\\pi$`rad` / `180deg`\n",
    "\n",
    "We can get other parallel vectors by multiplying the original vector by a scalar."
   ]
  },
  {
   "cell_type": "code",
   "execution_count": 1,
   "metadata": {
    "vscode": {
     "languageId": "python"
    }
   },
   "outputs": [
    {
     "name": "stdout",
     "output_type": "stream",
     "text": [
      "0.0 or 0.0\n",
      "3.141592653589793 or 180.0\n"
     ]
    }
   ],
   "source": [
    "from resources.vector import Vector\n",
    "\n",
    "v1 = Vector([0, 1])\n",
    "v2 = v1.scalar_mul(2)\n",
    "\n",
    "rad = Vector.get_angle_rad(v1, v2)\n",
    "deg = Vector.get_angle_deg(v1, v2)\n",
    "\n",
    "assert deg == 0 or deg == 180\n",
    "assert Vector.is_parallel(v1, v2)\n",
    "print(rad, 'or', deg)\n",
    "\n",
    "v1 = Vector([0, 1])\n",
    "v2 = v1.scalar_mul(-1/2.23)\n",
    "\n",
    "rad = Vector.get_angle_rad(v1, v2)\n",
    "deg = Vector.get_angle_deg(v1, v2)\n",
    "\n",
    "assert deg == 180 or deg == 0\n",
    "assert Vector.is_parallel(v1, v2)\n",
    "print(rad, 'or', deg)"
   ]
  },
  {
   "cell_type": "markdown",
   "metadata": {},
   "source": [
    "## Orthogonal Vectors\n",
    "\n",
    "Two vectors are orthogonals if they are pointing to perpendicular directions (aka: right angle of each other). For example [0,1] and [1,0] are orthogonal vectors.\n",
    "\n",
    "> Two vectors are orthogonals if their dot product is zero."
   ]
  },
  {
   "cell_type": "code",
   "execution_count": 3,
   "metadata": {
    "vscode": {
     "languageId": "python"
    }
   },
   "outputs": [],
   "source": [
    "from resources.vector import Vector\n",
    "\n",
    "v1 = Vector([0, 1])\n",
    "v2 = Vector([1, 0])\n",
    "\n",
    "dotp = Vector.dot_product(v1, v2)\n",
    "\n",
    "assert dotp == 0\n",
    "assert Vector.is_orthogonal(v1, v2)"
   ]
  },
  {
   "cell_type": "markdown",
   "metadata": {},
   "source": [
    "## Exercise\n",
    "\n",
    "![](images/exercise-parallel-orthogonal.png)"
   ]
  },
  {
   "cell_type": "code",
   "execution_count": 2,
   "metadata": {
    "vscode": {
     "languageId": "python"
    }
   },
   "outputs": [
    {
     "name": "stdout",
     "output_type": "stream",
     "text": [
      "    is_parallel   is_orthogonal\n",
      "1      True           False\n",
      "2      False           False\n",
      "3      False           True\n",
      "4      True           True\n"
     ]
    }
   ],
   "source": [
    "from resources.vector import Vector\n",
    "\n",
    "ex1_a, ex1_b = Vector([-7.579, -7.88]), Vector([22.737, 23.64])\n",
    "ex2_a, ex2_b = Vector([-2.029, 9.97, 4.172]), Vector([-9.231, -6.639, -7.245])\n",
    "ex3_a, ex3_b = Vector([-2.328, -7.284, -1.214]), Vector([-1.821, 1.072, -2.94])\n",
    "ex4_a, ex4_b = Vector([2.118, 4.817]), Vector([0, 0])\n",
    "\n",
    "ex1_par, ex1_ort = Vector.is_parallel(ex1_a, ex1_b), Vector.is_orthogonal(ex1_a, ex1_b)\n",
    "ex2_par, ex2_ort = Vector.is_parallel(ex2_a, ex2_b), Vector.is_orthogonal(ex2_a, ex2_b)\n",
    "ex3_par, ex3_ort = Vector.is_parallel(ex3_a, ex3_b), Vector.is_orthogonal(ex3_a, ex3_b)\n",
    "ex4_par, ex4_ort = Vector.is_parallel(ex4_a, ex4_b), Vector.is_orthogonal(ex4_a, ex4_b)\n",
    "\n",
    "print(\"    is_parallel   is_orthogonal\")\n",
    "print(\"{}      {}           {}\".format('1', ex1_par, ex1_ort))\n",
    "print(\"{}      {}           {}\".format('2', ex2_par, ex2_ort))\n",
    "print(\"{}      {}           {}\".format('3', ex3_par, ex3_ort))\n",
    "print(\"{}      {}           {}\".format('4', ex4_par, ex4_ort))"
   ]
  }
 ],
 "metadata": {
  "kernelspec": {
   "display_name": "Python 3 (ipykernel)",
   "language": "python",
   "name": "python3"
  },
  "orig_nbformat": 4
 },
 "nbformat": 4,
 "nbformat_minor": 2
}
